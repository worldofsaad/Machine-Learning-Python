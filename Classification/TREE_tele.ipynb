{
 "cells": [
  {
   "cell_type": "code",
   "execution_count": 49,
   "metadata": {},
   "outputs": [
    {
     "name": "stdout",
     "output_type": "stream",
     "text": [
      "   region  tenure  age  marital  address  income  ed  employ  retire  gender  \\\n",
      "0       2      13   44        1        9    64.0   4       5     0.0       0   \n",
      "1       3      11   33        1        7   136.0   5       5     0.0       0   \n",
      "2       3      68   52        1       24   116.0   1      29     0.0       1   \n",
      "3       2      33   33        0       12    33.0   2       0     0.0       1   \n",
      "4       2      23   30        1        9    30.0   1       2     0.0       0   \n",
      "\n",
      "   reside  custcat  \n",
      "0       2        1  \n",
      "1       6        4  \n",
      "2       2        3  \n",
      "3       1        1  \n",
      "4       4        3  \n",
      "[1 1 4 4 4]\n",
      "[4 1 1 2 4]\n",
      "Accuracy of model is  0.42\n"
     ]
    }
   ],
   "source": [
    "#tele predict using decision tree\n",
    "\n",
    "import numpy as np \n",
    "import pandas as pd\n",
    "from sklearn.tree import DecisionTreeClassifier\n",
    "\n",
    "df =  pd.read_csv('teleCust1000t.csv',delimiter = ',')\n",
    "x = df[['region','tenure','marital','address','income','ed','employ','retire','gender','reside']].to_numpy()\n",
    "y = df['custcat'].to_numpy()\n",
    "print(df[0:5])\n",
    "\n",
    "from sklearn.model_selection import train_test_split\n",
    "x_train, x_test, y_train, y_test = train_test_split(x,y,test_size=0.3,random_state=4)\n",
    "\n",
    "tree_model = DecisionTreeClassifier(criterion='entropy',max_depth=2)\n",
    "tree_model.fit(x_train,y_train)\n",
    "\n",
    "y_predict = tree_model.predict(x_test)\n",
    "\n",
    "print(y_predict[0:5])\n",
    "print(y_test[0:5])\n",
    "\n",
    "from sklearn import metrics\n",
    "print('Accuracy of model is ', metrics.accuracy_score(y_test,y_predict))"
   ]
  },
  {
   "cell_type": "code",
   "execution_count": null,
   "metadata": {
    "jupyter": {
     "source_hidden": true
    }
   },
   "outputs": [],
   "source": []
  }
 ],
 "metadata": {
  "kernelspec": {
   "display_name": "Python",
   "language": "python",
   "name": "conda-env-python-py"
  },
  "language_info": {
   "codemirror_mode": {
    "name": "ipython",
    "version": 3
   },
   "file_extension": ".py",
   "mimetype": "text/x-python",
   "name": "python",
   "nbconvert_exporter": "python",
   "pygments_lexer": "ipython3",
   "version": "3.6.7"
  }
 },
 "nbformat": 4,
 "nbformat_minor": 4
}
