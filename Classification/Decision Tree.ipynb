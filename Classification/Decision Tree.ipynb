{
 "cells": [
  {
   "cell_type": "code",
   "execution_count": 39,
   "metadata": {},
   "outputs": [
    {
     "name": "stdout",
     "output_type": "stream",
     "text": [
      "   Age Sex      BP Cholesterol  Na_to_K   Drug\n",
      "0   23   F    HIGH        HIGH   25.355  drugY\n",
      "1   47   M     LOW        HIGH   13.093  drugC\n",
      "2   47   M     LOW        HIGH   10.114  drugC\n",
      "3   28   F  NORMAL        HIGH    7.798  drugX\n",
      "4   61   F     LOW        HIGH   18.043  drugY\n",
      "\n",
      "The accuracy of this model 0.9833333333333333\n"
     ]
    }
   ],
   "source": [
    "import numpy as np \n",
    "import pandas as pd\n",
    "from sklearn.tree import DecisionTreeClassifier\n",
    "\n",
    "df = pd.read_csv('drug200.csv',delimiter = ',')\n",
    "print(df[0:5])\n",
    "\n",
    "x = df[['Age','Sex','BP','Cholesterol','Na_to_K']].values\n",
    "\n",
    "\n",
    "#convert categorical values\n",
    "from sklearn import preprocessing\n",
    "le_SEX = preprocessing.LabelEncoder()\n",
    "le_BP = preprocessing.LabelEncoder()\n",
    "le_Chol = preprocessing.LabelEncoder()\n",
    "\n",
    "le_SEX.fit(['F','M'])\n",
    "x[:,1] = le_SEX.transform(x[:,1])\n",
    "\n",
    "le_BP.fit(['LOW','NORMAL','HIGH'])\n",
    "x[:,2] = le_BP.transform(x[:,2])\n",
    "\n",
    "le_Chol.fit(['NORMAL','HIGH'])\n",
    "x[:,3] = le_Chol.transform(x[:,3])\n",
    "\n",
    "y = df['Drug']\n",
    "\n",
    "\n",
    "from sklearn.model_selection import train_test_split\n",
    "x_train, x_test, y_train, y_test = train_test_split(x,y,test_size = 0.3, random_state = 3)\n",
    "tree_model = DecisionTreeClassifier(criterion='entropy',max_depth=4)\n",
    "tree_model.fit(x_train,y_train)\n",
    "\n",
    "y_pred = tree_model.predict(x_test)\n",
    "\n",
    "from sklearn import metrics\n",
    "print('\\nThe accuracy of this model', metrics.accuracy_score(y_test,y_pred))\n"
   ]
  },
  {
   "cell_type": "code",
   "execution_count": null,
   "metadata": {
    "jupyter": {
     "source_hidden": true
    }
   },
   "outputs": [],
   "source": []
  }
 ],
 "metadata": {
  "kernelspec": {
   "display_name": "Python",
   "language": "python",
   "name": "conda-env-python-py"
  },
  "language_info": {
   "codemirror_mode": {
    "name": "ipython",
    "version": 3
   },
   "file_extension": ".py",
   "mimetype": "text/x-python",
   "name": "python",
   "nbconvert_exporter": "python",
   "pygments_lexer": "ipython3",
   "version": "3.6.7"
  }
 },
 "nbformat": 4,
 "nbformat_minor": 4
}
